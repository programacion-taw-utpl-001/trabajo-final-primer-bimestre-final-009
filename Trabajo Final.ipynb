{
 "cells": [
  {
   "cell_type": "markdown",
   "metadata": {},
   "source": [
    "# TRABAJO PRIMER BIMESTRE PROGRAMACION DE ALGORITMOS"
   ]
  },
  {
   "cell_type": "markdown",
   "metadata": {},
   "source": [
    "Integrantes: Jessica Davila,\n",
    "             Carlos Saca"
   ]
  },
  {
   "cell_type": "code",
   "execution_count": 3,
   "metadata": {},
   "outputs": [],
   "source": [
    "#%pylab inline\n",
    "import seaborn as sns\n",
    "import pandas as pd\n",
    "import bokeh\n",
    "import bokeh.plotting as bp\n",
    "from bokeh.models import CustomJS, Slider\n",
    "import numpy as np\n",
    "\n",
    "pd.set_option('precision', 5)"
   ]
  },
  {
   "cell_type": "code",
   "execution_count": 5,
   "metadata": {},
   "outputs": [
    {
     "name": "stderr",
     "output_type": "stream",
     "text": [
      "c:\\python27\\lib\\site-packages\\IPython\\core\\interactiveshell.py:2718: DtypeWarning: Columns (0,75,76) have mixed types. Specify dtype option on import or set low_memory=False.\n",
      "  interactivity=interactivity, compiler=compiler, result=result)\n"
     ]
    }
   ],
   "source": [
    "datos = pd.read_csv(\"Encuesta_Condiciones_Vida_2013/01_ecv6r_vivienda.csv\", \n",
    "                        sep=\".\")\n"
   ]
  },
  {
   "cell_type": "code",
   "execution_count": 8,
   "metadata": {},
   "outputs": [],
   "source": [
    "#datos2 = pd.read_csv(\"Encuesta_Condiciones_Vida_2013/BDD ECV 6R/10_ecv6r_creditos.csv\", sep=\".\")"
   ]
  },
  {
   "cell_type": "code",
   "execution_count": 8,
   "metadata": {},
   "outputs": [
    {
     "data": {
      "text/plain": [
       "<matplotlib.axes._subplots.AxesSubplot at 0x227af198>"
      ]
     },
     "execution_count": 8,
     "metadata": {},
     "output_type": "execute_result"
    }
   ],
   "source": [
    "datos2.plot()"
   ]
  },
  {
   "cell_type": "code",
   "execution_count": 6,
   "metadata": {},
   "outputs": [
    {
     "data": {
      "text/html": [
       "<div>\n",
       "<style scoped>\n",
       "    .dataframe tbody tr th:only-of-type {\n",
       "        vertical-align: middle;\n",
       "    }\n",
       "\n",
       "    .dataframe tbody tr th {\n",
       "        vertical-align: top;\n",
       "    }\n",
       "\n",
       "    .dataframe thead th {\n",
       "        text-align: right;\n",
       "    }\n",
       "</style>\n",
       "<table border=\"1\" class=\"dataframe\">\n",
       "  <thead>\n",
       "    <tr style=\"text-align: right;\">\n",
       "      <th></th>\n",
       "      <th>IDENTIF_SECT</th>\n",
       "      <th>IDENTIF_HOG</th>\n",
       "      <th>AREA_5000</th>\n",
       "      <th>AREA_2000</th>\n",
       "      <th>CIUDAD_AUTO</th>\n",
       "      <th>PROVINCIA</th>\n",
       "      <th>ZDP</th>\n",
       "      <th>REGION</th>\n",
       "      <th>CIUDAD</th>\n",
       "      <th>ZONA</th>\n",
       "      <th>...</th>\n",
       "      <th>CR04</th>\n",
       "      <th>CR05</th>\n",
       "      <th>CR06</th>\n",
       "      <th>CR07</th>\n",
       "      <th>CR08</th>\n",
       "      <th>CR09</th>\n",
       "      <th>CR10</th>\n",
       "      <th>FEXP</th>\n",
       "      <th>REGIONAL</th>\n",
       "      <th>FASE</th>\n",
       "    </tr>\n",
       "  </thead>\n",
       "  <tbody>\n",
       "    <tr>\n",
       "      <th>0</th>\n",
       "      <td>10150002004</td>\n",
       "      <td>1,015E+13</td>\n",
       "      <td>Urbano</td>\n",
       "      <td>Urbano</td>\n",
       "      <td>Cuenca</td>\n",
       "      <td>Azuay</td>\n",
       "      <td>Zona 6</td>\n",
       "      <td>Sierra</td>\n",
       "      <td>10150</td>\n",
       "      <td>2</td>\n",
       "      <td>...</td>\n",
       "      <td>780</td>\n",
       "      <td>00 \"Nada\"</td>\n",
       "      <td>Cuota variable</td>\n",
       "      <td>650</td>\n",
       "      <td>600</td>\n",
       "      <td>Otro, cual</td>\n",
       "      <td>Voucher</td>\n",
       "      <td>108,6322526</td>\n",
       "      <td>Sur</td>\n",
       "      <td>Fase 1</td>\n",
       "    </tr>\n",
       "    <tr>\n",
       "      <th>1</th>\n",
       "      <td>10150002004</td>\n",
       "      <td>1,015E+13</td>\n",
       "      <td>Urbano</td>\n",
       "      <td>Urbano</td>\n",
       "      <td>Cuenca</td>\n",
       "      <td>Azuay</td>\n",
       "      <td>Zona 6</td>\n",
       "      <td>Sierra</td>\n",
       "      <td>10150</td>\n",
       "      <td>2</td>\n",
       "      <td>...</td>\n",
       "      <td>480</td>\n",
       "      <td>100</td>\n",
       "      <td>Cuota fija</td>\n",
       "      <td>65</td>\n",
       "      <td>380</td>\n",
       "      <td>Documentos negociables</td>\n",
       "      <td>Pagar�</td>\n",
       "      <td>108,6322526</td>\n",
       "      <td>Sur</td>\n",
       "      <td>Fase 1</td>\n",
       "    </tr>\n",
       "    <tr>\n",
       "      <th>2</th>\n",
       "      <td>10150004008</td>\n",
       "      <td>1,015E+13</td>\n",
       "      <td>Urbano</td>\n",
       "      <td>Urbano</td>\n",
       "      <td>Cuenca</td>\n",
       "      <td>Azuay</td>\n",
       "      <td>Zona 6</td>\n",
       "      <td>Sierra</td>\n",
       "      <td>10150</td>\n",
       "      <td>4</td>\n",
       "      <td>...</td>\n",
       "      <td>240</td>\n",
       "      <td>00 \"Nada\"</td>\n",
       "      <td>Cuota fija</td>\n",
       "      <td>240</td>\n",
       "      <td>220</td>\n",
       "      <td>Otro, cual</td>\n",
       "      <td>Voucher</td>\n",
       "      <td>101,073869</td>\n",
       "      <td>Sur</td>\n",
       "      <td>Fase 1</td>\n",
       "    </tr>\n",
       "    <tr>\n",
       "      <th>3</th>\n",
       "      <td>10150004008</td>\n",
       "      <td>1,015E+13</td>\n",
       "      <td>Urbano</td>\n",
       "      <td>Urbano</td>\n",
       "      <td>Cuenca</td>\n",
       "      <td>Azuay</td>\n",
       "      <td>Zona 6</td>\n",
       "      <td>Sierra</td>\n",
       "      <td>10150</td>\n",
       "      <td>4</td>\n",
       "      <td>...</td>\n",
       "      <td>1000</td>\n",
       "      <td>200</td>\n",
       "      <td>Cuota fija</td>\n",
       "      <td>390</td>\n",
       "      <td>800</td>\n",
       "      <td>Documentos negociables</td>\n",
       "      <td>Letra de cambio</td>\n",
       "      <td>101,073869</td>\n",
       "      <td>Sur</td>\n",
       "      <td>Fase 1</td>\n",
       "    </tr>\n",
       "    <tr>\n",
       "      <th>4</th>\n",
       "      <td>10150006007</td>\n",
       "      <td>1,015E+13</td>\n",
       "      <td>Urbano</td>\n",
       "      <td>Urbano</td>\n",
       "      <td>Cuenca</td>\n",
       "      <td>Azuay</td>\n",
       "      <td>Zona 6</td>\n",
       "      <td>Sierra</td>\n",
       "      <td>10150</td>\n",
       "      <td>6</td>\n",
       "      <td>...</td>\n",
       "      <td>1000</td>\n",
       "      <td>50</td>\n",
       "      <td>Cuota fija</td>\n",
       "      <td>400</td>\n",
       "      <td>800</td>\n",
       "      <td>Documentos negociables</td>\n",
       "      <td>Pagar�</td>\n",
       "      <td>90,52687718</td>\n",
       "      <td>Sur</td>\n",
       "      <td>Fase 1</td>\n",
       "    </tr>\n",
       "  </tbody>\n",
       "</table>\n",
       "<p>5 rows × 27 columns</p>\n",
       "</div>"
      ],
      "text/plain": [
       "  IDENTIF_SECT IDENTIF_HOG AREA_5000 AREA_2000 CIUDAD_AUTO PROVINCIA     ZDP  \\\n",
       "0  10150002004   1,015E+13    Urbano    Urbano      Cuenca     Azuay  Zona 6   \n",
       "1  10150002004   1,015E+13    Urbano    Urbano      Cuenca     Azuay  Zona 6   \n",
       "2  10150004008   1,015E+13    Urbano    Urbano      Cuenca     Azuay  Zona 6   \n",
       "3  10150004008   1,015E+13    Urbano    Urbano      Cuenca     Azuay  Zona 6   \n",
       "4  10150006007   1,015E+13    Urbano    Urbano      Cuenca     Azuay  Zona 6   \n",
       "\n",
       "   REGION  CIUDAD  ZONA   ...    CR04       CR05            CR06 CR07  CR08  \\\n",
       "0  Sierra   10150     2   ...     780  00 \"Nada\"  Cuota variable  650   600   \n",
       "1  Sierra   10150     2   ...     480        100      Cuota fija   65   380   \n",
       "2  Sierra   10150     4   ...     240  00 \"Nada\"      Cuota fija  240   220   \n",
       "3  Sierra   10150     4   ...    1000        200      Cuota fija  390   800   \n",
       "4  Sierra   10150     6   ...    1000         50      Cuota fija  400   800   \n",
       "\n",
       "                     CR09             CR10         FEXP REGIONAL    FASE  \n",
       "0              Otro, cual          Voucher  108,6322526      Sur  Fase 1  \n",
       "1  Documentos negociables           Pagar�  108,6322526      Sur  Fase 1  \n",
       "2              Otro, cual          Voucher   101,073869      Sur  Fase 1  \n",
       "3  Documentos negociables  Letra de cambio   101,073869      Sur  Fase 1  \n",
       "4  Documentos negociables           Pagar�  90,52687718      Sur  Fase 1  \n",
       "\n",
       "[5 rows x 27 columns]"
      ]
     },
     "execution_count": 6,
     "metadata": {},
     "output_type": "execute_result"
    }
   ],
   "source": [
    "#data\n",
    "datos.head()"
   ]
  },
  {
   "cell_type": "code",
   "execution_count": 120,
   "metadata": {},
   "outputs": [],
   "source": [
    "#data.plot()"
   ]
  },
  {
   "cell_type": "code",
   "execution_count": 20,
   "metadata": {},
   "outputs": [
    {
     "data": {
      "text/plain": [
       "Index([u'IDENTIF_SECT', u'IDENTIF_HOG', u'AREA_5000', u'AREA_2000',\n",
       "       u'CIUDAD_AUTO', u'PROVINCIA', u'ZDP', u'REGION', u'CIUDAD', u'ZONA',\n",
       "       ...\n",
       "       u'AM1703C', u'AM1704A', u'AM1704B', u'AM1704C', u'AM1705A', u'AM1705B',\n",
       "       u'AM1705C', u'FEXP', u'REGIONAL', u'FASE'],\n",
       "      dtype='object', length=166)"
      ]
     },
     "execution_count": 20,
     "metadata": {},
     "output_type": "execute_result"
    }
   ],
   "source": [
    "datos.columns"
   ]
  },
  {
   "cell_type": "code",
   "execution_count": 21,
   "metadata": {},
   "outputs": [
    {
     "data": {
      "text/plain": [
       "array(['Azuay', 'Bolivar', 'Ca\\xf1ar', 'Carchi', 'Cotopaxi', 'Chimborazo',\n",
       "       'El Oro', 'Esmeraldas', 'Guayas', 'Imbabura', 'Loja', 'Los Rios',\n",
       "       'Manabi', 'Morona Santiago', 'Napo', 'Pastaza', 'Pichincha',\n",
       "       'Tungurahua', 'Zamora Chinchipe', 'Gal\\xe1pagos', 'Sucumbios',\n",
       "       'Orellana', 'Santo Domingo de los Tsachilas', 'Santa Elena'], dtype=object)"
      ]
     },
     "execution_count": 21,
     "metadata": {},
     "output_type": "execute_result"
    }
   ],
   "source": [
    "datos['PROVINCIA'].unique()[:24]"
   ]
  },
  {
   "cell_type": "code",
   "execution_count": 92,
   "metadata": {
    "scrolled": true
   },
   "outputs": [],
   "source": [
    "index_pro_datos = datos.set_index(\"PROVINCIA\",\"REGIONAL\").sort_index()"
   ]
  },
  {
   "cell_type": "code",
   "execution_count": 93,
   "metadata": {},
   "outputs": [
    {
     "data": {
      "text/plain": [
       "count      28970\n",
       "unique        24\n",
       "top       Guayas\n",
       "freq        3082\n",
       "Name: PROVINCIA, dtype: object"
      ]
     },
     "execution_count": 93,
     "metadata": {},
     "output_type": "execute_result"
    }
   ],
   "source": [
    "datos['PROVINCIA'].describe()"
   ]
  },
  {
   "cell_type": "code",
   "execution_count": 66,
   "metadata": {},
   "outputs": [
    {
     "data": {
      "text/html": [
       "<div>\n",
       "<style scoped>\n",
       "    .dataframe tbody tr th:only-of-type {\n",
       "        vertical-align: middle;\n",
       "    }\n",
       "\n",
       "    .dataframe tbody tr th {\n",
       "        vertical-align: top;\n",
       "    }\n",
       "\n",
       "    .dataframe thead th {\n",
       "        text-align: right;\n",
       "    }\n",
       "</style>\n",
       "<table border=\"1\" class=\"dataframe\">\n",
       "  <thead>\n",
       "    <tr style=\"text-align: right;\">\n",
       "      <th></th>\n",
       "      <th>ZDP</th>\n",
       "      <th>VI03</th>\n",
       "      <th>VI04</th>\n",
       "      <th>VI05</th>\n",
       "      <th>VI06A</th>\n",
       "      <th>VI37</th>\n",
       "    </tr>\n",
       "    <tr>\n",
       "      <th>PROVINCIA</th>\n",
       "      <th></th>\n",
       "      <th></th>\n",
       "      <th></th>\n",
       "      <th></th>\n",
       "      <th></th>\n",
       "      <th></th>\n",
       "    </tr>\n",
       "  </thead>\n",
       "  <tbody>\n",
       "    <tr>\n",
       "      <th>El Oro</th>\n",
       "      <td>Zona 7</td>\n",
       "      <td>Zinc</td>\n",
       "      <td>Ca�a sin revestir</td>\n",
       "      <td>Tabla / tabl�n no tratado</td>\n",
       "      <td>Bueno</td>\n",
       "      <td></td>\n",
       "    </tr>\n",
       "    <tr>\n",
       "      <th>El Oro</th>\n",
       "      <td>Zona 7</td>\n",
       "      <td>Asbesto (Eternit)</td>\n",
       "      <td>Asbesto / cemento</td>\n",
       "      <td>Cemento / ladrillo</td>\n",
       "      <td>Regular</td>\n",
       "      <td></td>\n",
       "    </tr>\n",
       "    <tr>\n",
       "      <th>El Oro</th>\n",
       "      <td>Zona 7</td>\n",
       "      <td>Zinc</td>\n",
       "      <td>Bloque /ladrillo</td>\n",
       "      <td>Cer�mica / baldosa / vinyl</td>\n",
       "      <td>Regular</td>\n",
       "      <td></td>\n",
       "    </tr>\n",
       "    <tr>\n",
       "      <th>El Oro</th>\n",
       "      <td>Zona 7</td>\n",
       "      <td>Hormig�n / losa / cemento</td>\n",
       "      <td>Bloque /ladrillo</td>\n",
       "      <td>Cer�mica / baldosa / vinyl</td>\n",
       "      <td>Bueno</td>\n",
       "      <td></td>\n",
       "    </tr>\n",
       "    <tr>\n",
       "      <th>El Oro</th>\n",
       "      <td>Zona 7</td>\n",
       "      <td>Zinc</td>\n",
       "      <td>Ca�a sin revestir</td>\n",
       "      <td>Tierra</td>\n",
       "      <td>Malo</td>\n",
       "      <td></td>\n",
       "    </tr>\n",
       "  </tbody>\n",
       "</table>\n",
       "</div>"
      ],
      "text/plain": [
       "              ZDP                       VI03               VI04  \\\n",
       "PROVINCIA                                                         \n",
       "El Oro     Zona 7                       Zinc  Ca�a sin revestir   \n",
       "El Oro     Zona 7          Asbesto (Eternit)  Asbesto / cemento   \n",
       "El Oro     Zona 7                       Zinc   Bloque /ladrillo   \n",
       "El Oro     Zona 7  Hormig�n / losa / cemento   Bloque /ladrillo   \n",
       "El Oro     Zona 7                       Zinc  Ca�a sin revestir   \n",
       "\n",
       "                                 VI05    VI06A VI37  \n",
       "PROVINCIA                                            \n",
       "El Oro      Tabla / tabl�n no tratado    Bueno       \n",
       "El Oro             Cemento / ladrillo  Regular       \n",
       "El Oro     Cer�mica / baldosa / vinyl  Regular       \n",
       "El Oro     Cer�mica / baldosa / vinyl    Bueno       \n",
       "El Oro                         Tierra     Malo       "
      ]
     },
     "execution_count": 66,
     "metadata": {},
     "output_type": "execute_result"
    }
   ],
   "source": [
    "index_pro_datos.loc[\n",
    "                    [\"El Oro\",\"Loja\",\"Zamora Chinchipe\"],\n",
    "                    ['ZDP','VI03','VI04','VI05','VI06A','VI37']\n",
    "                  ].head(5)"
   ]
  },
  {
   "cell_type": "code",
   "execution_count": 69,
   "metadata": {
    "scrolled": true
   },
   "outputs": [
    {
     "data": {
      "text/plain": [
       "<matplotlib.axes._subplots.AxesSubplot at 0x22c74208>"
      ]
     },
     "execution_count": 69,
     "metadata": {},
     "output_type": "execute_result"
    },
    {
     "data": {
      "image/png": "[encoded data removed]",
      "text/plain": [
       "<matplotlib.figure.Figure at 0x22c82f98>"
      ]
     },
     "metadata": {},
     "output_type": "display_data"
    }
   ],
   "source": [
    "\n",
    "index_pro_datos.plot()"
   ]
  },
  {
   "cell_type": "code",
   "execution_count": 110,
   "metadata": {},
   "outputs": [
    {
     "data": {
      "text/plain": [
       "Index([u'CIUDAD', u'ZONA', u'SECTOR', u'VIVIENDA', u'HOGAR', u'VI01', u'VI08'], dtype='object')"
      ]
     },
     "execution_count": 110,
     "metadata": {},
     "output_type": "execute_result"
    }
   ],
   "source": [
    "datos_z7 = datos.set_index([\"ZDP\"],[\"PROVINCIA\",\"REGIONAL\"],[\"VI03\",\"VI04\",\"VI05\"]).sort_index()\n",
    "#agrupar_zona = datos_z7.groupby(\"PROVINCIA\").sum()\n",
    "agrupar_zona.columns"
   ]
  },
  {
   "cell_type": "code",
   "execution_count": 111,
   "metadata": {},
   "outputs": [
    {
     "data": {
      "text/html": [
       "<div>\n",
       "<style scoped>\n",
       "    .dataframe tbody tr th:only-of-type {\n",
       "        vertical-align: middle;\n",
       "    }\n",
       "\n",
       "    .dataframe tbody tr th {\n",
       "        vertical-align: top;\n",
       "    }\n",
       "\n",
       "    .dataframe thead th {\n",
       "        text-align: right;\n",
       "    }\n",
       "</style>\n",
       "<table border=\"1\" class=\"dataframe\">\n",
       "  <thead>\n",
       "    <tr style=\"text-align: right;\">\n",
       "      <th></th>\n",
       "      <th>CIUDAD</th>\n",
       "      <th>ZONA</th>\n",
       "      <th>SECTOR</th>\n",
       "      <th>VIVIENDA</th>\n",
       "      <th>HOGAR</th>\n",
       "      <th>VI01</th>\n",
       "      <th>VI08</th>\n",
       "    </tr>\n",
       "    <tr>\n",
       "      <th>PROVINCIA</th>\n",
       "      <th></th>\n",
       "      <th></th>\n",
       "      <th></th>\n",
       "      <th></th>\n",
       "      <th></th>\n",
       "      <th></th>\n",
       "      <th></th>\n",
       "    </tr>\n",
       "  </thead>\n",
       "  <tbody>\n",
       "    <tr>\n",
       "      <th>Azuay</th>\n",
       "      <td>20142172</td>\n",
       "      <td>845354</td>\n",
       "      <td>21482</td>\n",
       "      <td>12608</td>\n",
       "      <td>1960</td>\n",
       "      <td>1969</td>\n",
       "      <td>7285</td>\n",
       "    </tr>\n",
       "    <tr>\n",
       "      <th>Bolivar</th>\n",
       "      <td>18350212</td>\n",
       "      <td>674976</td>\n",
       "      <td>19876</td>\n",
       "      <td>5868</td>\n",
       "      <td>908</td>\n",
       "      <td>912</td>\n",
       "      <td>2979</td>\n",
       "    </tr>\n",
       "    <tr>\n",
       "      <th>Carchi</th>\n",
       "      <td>34894276</td>\n",
       "      <td>477946</td>\n",
       "      <td>5332</td>\n",
       "      <td>5639</td>\n",
       "      <td>868</td>\n",
       "      <td>871</td>\n",
       "      <td>2687</td>\n",
       "    </tr>\n",
       "    <tr>\n",
       "      <th>Ca�ar</th>\n",
       "      <td>28652750</td>\n",
       "      <td>595038</td>\n",
       "      <td>7951</td>\n",
       "      <td>6134</td>\n",
       "      <td>947</td>\n",
       "      <td>949</td>\n",
       "      <td>3373</td>\n",
       "    </tr>\n",
       "    <tr>\n",
       "      <th>Chimborazo</th>\n",
       "      <td>69232258</td>\n",
       "      <td>772596</td>\n",
       "      <td>20852</td>\n",
       "      <td>7445</td>\n",
       "      <td>1150</td>\n",
       "      <td>1153</td>\n",
       "      <td>3589</td>\n",
       "    </tr>\n",
       "  </tbody>\n",
       "</table>\n",
       "</div>"
      ],
      "text/plain": [
       "              CIUDAD    ZONA  SECTOR  VIVIENDA  HOGAR  VI01  VI08\n",
       "PROVINCIA                                                        \n",
       "Azuay       20142172  845354   21482     12608   1960  1969  7285\n",
       "Bolivar     18350212  674976   19876      5868    908   912  2979\n",
       "Carchi      34894276  477946    5332      5639    868   871  2687\n",
       "Ca�ar       28652750  595038    7951      6134    947   949  3373\n",
       "Chimborazo  69232258  772596   20852      7445   1150  1153  3589"
      ]
     },
     "execution_count": 111,
     "metadata": {},
     "output_type": "execute_result"
    }
   ],
   "source": [
    "agrupar_zona.head()\n"
   ]
  },
  {
   "cell_type": "code",
   "execution_count": 91,
   "metadata": {},
   "outputs": [
    {
     "data": {
      "text/html": [
       "<div>\n",
       "<style scoped>\n",
       "    .dataframe tbody tr th:only-of-type {\n",
       "        vertical-align: middle;\n",
       "    }\n",
       "\n",
       "    .dataframe tbody tr th {\n",
       "        vertical-align: top;\n",
       "    }\n",
       "\n",
       "    .dataframe thead th {\n",
       "        text-align: right;\n",
       "    }\n",
       "</style>\n",
       "<table border=\"1\" class=\"dataframe\">\n",
       "  <thead>\n",
       "    <tr style=\"text-align: right;\">\n",
       "      <th></th>\n",
       "      <th></th>\n",
       "      <th>IDENTIF_SECT</th>\n",
       "      <th>IDENTIF_HOG</th>\n",
       "      <th>AREA_5000</th>\n",
       "      <th>AREA_2000</th>\n",
       "      <th>CIUDAD_AUTO</th>\n",
       "      <th>PROVINCIA</th>\n",
       "      <th>REGION</th>\n",
       "      <th>CIUDAD</th>\n",
       "      <th>ZONA</th>\n",
       "      <th>SECTOR</th>\n",
       "      <th>...</th>\n",
       "      <th>AM1703C</th>\n",
       "      <th>AM1704A</th>\n",
       "      <th>AM1704B</th>\n",
       "      <th>AM1704C</th>\n",
       "      <th>AM1705A</th>\n",
       "      <th>AM1705B</th>\n",
       "      <th>AM1705C</th>\n",
       "      <th>FEXP</th>\n",
       "      <th>REGIONAL</th>\n",
       "      <th>FASE</th>\n",
       "    </tr>\n",
       "    <tr>\n",
       "      <th></th>\n",
       "      <th>ZDP</th>\n",
       "      <th></th>\n",
       "      <th></th>\n",
       "      <th></th>\n",
       "      <th></th>\n",
       "      <th></th>\n",
       "      <th></th>\n",
       "      <th></th>\n",
       "      <th></th>\n",
       "      <th></th>\n",
       "      <th></th>\n",
       "      <th></th>\n",
       "      <th></th>\n",
       "      <th></th>\n",
       "      <th></th>\n",
       "      <th></th>\n",
       "      <th></th>\n",
       "      <th></th>\n",
       "      <th></th>\n",
       "      <th></th>\n",
       "      <th></th>\n",
       "      <th></th>\n",
       "    </tr>\n",
       "  </thead>\n",
       "  <tbody>\n",
       "    <tr>\n",
       "      <th>0</th>\n",
       "      <th>Zona 6</th>\n",
       "      <td>10150001011</td>\n",
       "      <td>1,015E+13</td>\n",
       "      <td>Urbano</td>\n",
       "      <td>Urbano</td>\n",
       "      <td>Cuenca</td>\n",
       "      <td>Azuay</td>\n",
       "      <td>Sierra</td>\n",
       "      <td>10150</td>\n",
       "      <td>1</td>\n",
       "      <td>11</td>\n",
       "      <td>...</td>\n",
       "      <td></td>\n",
       "      <td>No aplica</td>\n",
       "      <td></td>\n",
       "      <td></td>\n",
       "      <td>No aplica</td>\n",
       "      <td></td>\n",
       "      <td></td>\n",
       "      <td>98,75659329</td>\n",
       "      <td>Sur</td>\n",
       "      <td>Fase 1</td>\n",
       "    </tr>\n",
       "    <tr>\n",
       "      <th>1</th>\n",
       "      <th>Zona 6</th>\n",
       "      <td>10150001011</td>\n",
       "      <td>1,015E+13</td>\n",
       "      <td>Urbano</td>\n",
       "      <td>Urbano</td>\n",
       "      <td>Cuenca</td>\n",
       "      <td>Azuay</td>\n",
       "      <td>Sierra</td>\n",
       "      <td>10150</td>\n",
       "      <td>1</td>\n",
       "      <td>11</td>\n",
       "      <td>...</td>\n",
       "      <td></td>\n",
       "      <td>No aplica</td>\n",
       "      <td></td>\n",
       "      <td></td>\n",
       "      <td>No aplica</td>\n",
       "      <td></td>\n",
       "      <td></td>\n",
       "      <td>98,75659329</td>\n",
       "      <td>Sur</td>\n",
       "      <td>Fase 1</td>\n",
       "    </tr>\n",
       "    <tr>\n",
       "      <th>2</th>\n",
       "      <th>Zona 6</th>\n",
       "      <td>10150001011</td>\n",
       "      <td>1,015E+13</td>\n",
       "      <td>Urbano</td>\n",
       "      <td>Urbano</td>\n",
       "      <td>Cuenca</td>\n",
       "      <td>Azuay</td>\n",
       "      <td>Sierra</td>\n",
       "      <td>10150</td>\n",
       "      <td>1</td>\n",
       "      <td>11</td>\n",
       "      <td>...</td>\n",
       "      <td></td>\n",
       "      <td>No aplica</td>\n",
       "      <td></td>\n",
       "      <td></td>\n",
       "      <td>No aplica</td>\n",
       "      <td></td>\n",
       "      <td></td>\n",
       "      <td>98,75659329</td>\n",
       "      <td>Sur</td>\n",
       "      <td>Fase 1</td>\n",
       "    </tr>\n",
       "    <tr>\n",
       "      <th>3</th>\n",
       "      <th>Zona 6</th>\n",
       "      <td>10150001011</td>\n",
       "      <td>1,015E+13</td>\n",
       "      <td>Urbano</td>\n",
       "      <td>Urbano</td>\n",
       "      <td>Cuenca</td>\n",
       "      <td>Azuay</td>\n",
       "      <td>Sierra</td>\n",
       "      <td>10150</td>\n",
       "      <td>1</td>\n",
       "      <td>11</td>\n",
       "      <td>...</td>\n",
       "      <td></td>\n",
       "      <td>No aplica</td>\n",
       "      <td></td>\n",
       "      <td></td>\n",
       "      <td>No aplica</td>\n",
       "      <td></td>\n",
       "      <td></td>\n",
       "      <td>98,75659329</td>\n",
       "      <td>Sur</td>\n",
       "      <td>Fase 1</td>\n",
       "    </tr>\n",
       "    <tr>\n",
       "      <th>4</th>\n",
       "      <th>Zona 6</th>\n",
       "      <td>10150001011</td>\n",
       "      <td>1,015E+13</td>\n",
       "      <td>Urbano</td>\n",
       "      <td>Urbano</td>\n",
       "      <td>Cuenca</td>\n",
       "      <td>Azuay</td>\n",
       "      <td>Sierra</td>\n",
       "      <td>10150</td>\n",
       "      <td>1</td>\n",
       "      <td>11</td>\n",
       "      <td>...</td>\n",
       "      <td></td>\n",
       "      <td>No aplica</td>\n",
       "      <td></td>\n",
       "      <td></td>\n",
       "      <td>No aplica</td>\n",
       "      <td></td>\n",
       "      <td></td>\n",
       "      <td>98,75659329</td>\n",
       "      <td>Sur</td>\n",
       "      <td>Fase 1</td>\n",
       "    </tr>\n",
       "  </tbody>\n",
       "</table>\n",
       "<p>5 rows × 165 columns</p>\n",
       "</div>"
      ],
      "text/plain": [
       "         IDENTIF_SECT IDENTIF_HOG AREA_5000 AREA_2000 CIUDAD_AUTO PROVINCIA  \\\n",
       "  ZDP                                                                         \n",
       "0 Zona 6  10150001011   1,015E+13    Urbano    Urbano      Cuenca     Azuay   \n",
       "1 Zona 6  10150001011   1,015E+13    Urbano    Urbano      Cuenca     Azuay   \n",
       "2 Zona 6  10150001011   1,015E+13    Urbano    Urbano      Cuenca     Azuay   \n",
       "3 Zona 6  10150001011   1,015E+13    Urbano    Urbano      Cuenca     Azuay   \n",
       "4 Zona 6  10150001011   1,015E+13    Urbano    Urbano      Cuenca     Azuay   \n",
       "\n",
       "          REGION  CIUDAD  ZONA  SECTOR   ...    AM1703C    AM1704A AM1704B  \\\n",
       "  ZDP                                    ...                                 \n",
       "0 Zona 6  Sierra   10150     1      11   ...             No aplica           \n",
       "1 Zona 6  Sierra   10150     1      11   ...             No aplica           \n",
       "2 Zona 6  Sierra   10150     1      11   ...             No aplica           \n",
       "3 Zona 6  Sierra   10150     1      11   ...             No aplica           \n",
       "4 Zona 6  Sierra   10150     1      11   ...             No aplica           \n",
       "\n",
       "          AM1704C    AM1705A AM1705B AM1705C         FEXP REGIONAL    FASE  \n",
       "  ZDP                                                                       \n",
       "0 Zona 6           No aplica                  98,75659329      Sur  Fase 1  \n",
       "1 Zona 6           No aplica                  98,75659329      Sur  Fase 1  \n",
       "2 Zona 6           No aplica                  98,75659329      Sur  Fase 1  \n",
       "3 Zona 6           No aplica                  98,75659329      Sur  Fase 1  \n",
       "4 Zona 6           No aplica                  98,75659329      Sur  Fase 1  \n",
       "\n",
       "[5 rows x 165 columns]"
      ]
     },
     "execution_count": 91,
     "metadata": {},
     "output_type": "execute_result"
    }
   ],
   "source": [
    "datos_z7.head()"
   ]
  },
  {
   "cell_type": "code",
   "execution_count": 94,
   "metadata": {},
   "outputs": [
    {
     "data": {
      "text/plain": [
       "<matplotlib.axes._subplots.AxesSubplot at 0x2b34f780>"
      ]
     },
     "execution_count": 94,
     "metadata": {},
     "output_type": "execute_result"
    },
    {
     "data": {
      "image/png": "[encoded data removed]",
      "text/plain": [
       "<matplotlib.figure.Figure at 0x22c82908>"
      ]
     },
     "metadata": {},
     "output_type": "display_data"
    }
   ],
   "source": [
    "datos_z7.plot()"
   ]
  },
  {
   "cell_type": "code",
   "execution_count": null,
   "metadata": {},
   "outputs": [],
   "source": []
  }
 ],
 "metadata": {
  "kernelspec": {
   "display_name": "Python 2",
   "language": "python",
   "name": "python2"
  },
  "language_info": {
   "codemirror_mode": {
    "name": "ipython",
    "version": 2
   },
   "file_extension": ".py",
   "mimetype": "text/x-python",
   "name": "python",
   "nbconvert_exporter": "python",
   "pygments_lexer": "ipython2",
   "version": "2.7.11"
  }
 },
 "nbformat": 4,
 "nbformat_minor": 2
}
