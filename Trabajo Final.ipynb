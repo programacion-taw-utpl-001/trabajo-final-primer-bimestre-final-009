{
 "cells": [
  {
   "cell_type": "markdown",
   "metadata": {},
   "source": [
    "# TRABAJO PRIMER BIMESTRE PROGRAMACION DE ALGORITMOS"
   ]
  },
  {
   "cell_type": "markdown",
   "metadata": {},
   "source": [
    "Docente: Ing.  RenÉ Elizalde "
   ]
  },
  {
   "cell_type": "markdown",
   "metadata": {},
   "source": [
    "Integrantes: Jessica Davila,\n",
    "             Carlos Saca"
   ]
  },
  {
   "cell_type": "code",
   "execution_count": 3,
   "metadata": {},
   "outputs": [],
   "source": [
    "#%pylab inline\n",
    "import seaborn as sns\n",
    "import pandas as pd\n",
    "import bokeh\n",
    "import numpy as np\n",
    "\n",
    "pd.set_option('precision', 5)"
   ]
  },
  {
   "cell_type": "code",
   "execution_count": 4,
   "metadata": {},
   "outputs": [],
   "source": [
    "datos = pd.read_csv(\"Encuesta_Condiciones_Vida_2013/01_ecv6r_vivienda.csv\", \n",
    "                        sep=\".\", low_memory=False)\n"
   ]
  },
  {
   "cell_type": "code",
   "execution_count": 5,
   "metadata": {},
   "outputs": [
    {
     "data": {
      "text/html": [
       "<div>\n",
       "<style scoped>\n",
       "    .dataframe tbody tr th:only-of-type {\n",
       "        vertical-align: middle;\n",
       "    }\n",
       "\n",
       "    .dataframe tbody tr th {\n",
       "        vertical-align: top;\n",
       "    }\n",
       "\n",
       "    .dataframe thead th {\n",
       "        text-align: right;\n",
       "    }\n",
       "</style>\n",
       "<table border=\"1\" class=\"dataframe\">\n",
       "  <thead>\n",
       "    <tr style=\"text-align: right;\">\n",
       "      <th></th>\n",
       "      <th>IDENTIF_SECT</th>\n",
       "      <th>IDENTIF_HOG</th>\n",
       "      <th>AREA_5000</th>\n",
       "      <th>AREA_2000</th>\n",
       "      <th>CIUDAD_AUTO</th>\n",
       "      <th>PROVINCIA</th>\n",
       "      <th>ZDP</th>\n",
       "      <th>REGION</th>\n",
       "      <th>CIUDAD</th>\n",
       "      <th>ZONA</th>\n",
       "      <th>...</th>\n",
       "      <th>AM1703C</th>\n",
       "      <th>AM1704A</th>\n",
       "      <th>AM1704B</th>\n",
       "      <th>AM1704C</th>\n",
       "      <th>AM1705A</th>\n",
       "      <th>AM1705B</th>\n",
       "      <th>AM1705C</th>\n",
       "      <th>FEXP</th>\n",
       "      <th>REGIONAL</th>\n",
       "      <th>FASE</th>\n",
       "    </tr>\n",
       "  </thead>\n",
       "  <tbody>\n",
       "    <tr>\n",
       "      <th>0</th>\n",
       "      <td>10150001011</td>\n",
       "      <td>1,015E+13</td>\n",
       "      <td>Urbano</td>\n",
       "      <td>Urbano</td>\n",
       "      <td>Cuenca</td>\n",
       "      <td>Azuay</td>\n",
       "      <td>Zona 6</td>\n",
       "      <td>Sierra</td>\n",
       "      <td>10150</td>\n",
       "      <td>1</td>\n",
       "      <td>...</td>\n",
       "      <td></td>\n",
       "      <td>No aplica</td>\n",
       "      <td></td>\n",
       "      <td></td>\n",
       "      <td>No aplica</td>\n",
       "      <td></td>\n",
       "      <td></td>\n",
       "      <td>98,75659329</td>\n",
       "      <td>Sur</td>\n",
       "      <td>Fase 1</td>\n",
       "    </tr>\n",
       "    <tr>\n",
       "      <th>1</th>\n",
       "      <td>10150001011</td>\n",
       "      <td>1,015E+13</td>\n",
       "      <td>Urbano</td>\n",
       "      <td>Urbano</td>\n",
       "      <td>Cuenca</td>\n",
       "      <td>Azuay</td>\n",
       "      <td>Zona 6</td>\n",
       "      <td>Sierra</td>\n",
       "      <td>10150</td>\n",
       "      <td>1</td>\n",
       "      <td>...</td>\n",
       "      <td></td>\n",
       "      <td>No aplica</td>\n",
       "      <td></td>\n",
       "      <td></td>\n",
       "      <td>No aplica</td>\n",
       "      <td></td>\n",
       "      <td></td>\n",
       "      <td>98,75659329</td>\n",
       "      <td>Sur</td>\n",
       "      <td>Fase 1</td>\n",
       "    </tr>\n",
       "    <tr>\n",
       "      <th>2</th>\n",
       "      <td>10150001011</td>\n",
       "      <td>1,015E+13</td>\n",
       "      <td>Urbano</td>\n",
       "      <td>Urbano</td>\n",
       "      <td>Cuenca</td>\n",
       "      <td>Azuay</td>\n",
       "      <td>Zona 6</td>\n",
       "      <td>Sierra</td>\n",
       "      <td>10150</td>\n",
       "      <td>1</td>\n",
       "      <td>...</td>\n",
       "      <td></td>\n",
       "      <td>No aplica</td>\n",
       "      <td></td>\n",
       "      <td></td>\n",
       "      <td>No aplica</td>\n",
       "      <td></td>\n",
       "      <td></td>\n",
       "      <td>98,75659329</td>\n",
       "      <td>Sur</td>\n",
       "      <td>Fase 1</td>\n",
       "    </tr>\n",
       "    <tr>\n",
       "      <th>3</th>\n",
       "      <td>10150001011</td>\n",
       "      <td>1,015E+13</td>\n",
       "      <td>Urbano</td>\n",
       "      <td>Urbano</td>\n",
       "      <td>Cuenca</td>\n",
       "      <td>Azuay</td>\n",
       "      <td>Zona 6</td>\n",
       "      <td>Sierra</td>\n",
       "      <td>10150</td>\n",
       "      <td>1</td>\n",
       "      <td>...</td>\n",
       "      <td></td>\n",
       "      <td>No aplica</td>\n",
       "      <td></td>\n",
       "      <td></td>\n",
       "      <td>No aplica</td>\n",
       "      <td></td>\n",
       "      <td></td>\n",
       "      <td>98,75659329</td>\n",
       "      <td>Sur</td>\n",
       "      <td>Fase 1</td>\n",
       "    </tr>\n",
       "    <tr>\n",
       "      <th>4</th>\n",
       "      <td>10150001011</td>\n",
       "      <td>1,015E+13</td>\n",
       "      <td>Urbano</td>\n",
       "      <td>Urbano</td>\n",
       "      <td>Cuenca</td>\n",
       "      <td>Azuay</td>\n",
       "      <td>Zona 6</td>\n",
       "      <td>Sierra</td>\n",
       "      <td>10150</td>\n",
       "      <td>1</td>\n",
       "      <td>...</td>\n",
       "      <td></td>\n",
       "      <td>No aplica</td>\n",
       "      <td></td>\n",
       "      <td></td>\n",
       "      <td>No aplica</td>\n",
       "      <td></td>\n",
       "      <td></td>\n",
       "      <td>98,75659329</td>\n",
       "      <td>Sur</td>\n",
       "      <td>Fase 1</td>\n",
       "    </tr>\n",
       "  </tbody>\n",
       "</table>\n",
       "<p>5 rows × 166 columns</p>\n",
       "</div>"
      ],
      "text/plain": [
       "  IDENTIF_SECT IDENTIF_HOG AREA_5000 AREA_2000 CIUDAD_AUTO PROVINCIA     ZDP  \\\n",
       "0  10150001011   1,015E+13    Urbano    Urbano      Cuenca     Azuay  Zona 6   \n",
       "1  10150001011   1,015E+13    Urbano    Urbano      Cuenca     Azuay  Zona 6   \n",
       "2  10150001011   1,015E+13    Urbano    Urbano      Cuenca     Azuay  Zona 6   \n",
       "3  10150001011   1,015E+13    Urbano    Urbano      Cuenca     Azuay  Zona 6   \n",
       "4  10150001011   1,015E+13    Urbano    Urbano      Cuenca     Azuay  Zona 6   \n",
       "\n",
       "   REGION  CIUDAD  ZONA   ...    AM1703C    AM1704A  AM1704B AM1704C  \\\n",
       "0  Sierra   10150     1   ...             No aplica                    \n",
       "1  Sierra   10150     1   ...             No aplica                    \n",
       "2  Sierra   10150     1   ...             No aplica                    \n",
       "3  Sierra   10150     1   ...             No aplica                    \n",
       "4  Sierra   10150     1   ...             No aplica                    \n",
       "\n",
       "     AM1705A AM1705B AM1705C         FEXP REGIONAL    FASE  \n",
       "0  No aplica                  98,75659329      Sur  Fase 1  \n",
       "1  No aplica                  98,75659329      Sur  Fase 1  \n",
       "2  No aplica                  98,75659329      Sur  Fase 1  \n",
       "3  No aplica                  98,75659329      Sur  Fase 1  \n",
       "4  No aplica                  98,75659329      Sur  Fase 1  \n",
       "\n",
       "[5 rows x 166 columns]"
      ]
     },
     "execution_count": 5,
     "metadata": {},
     "output_type": "execute_result"
    }
   ],
   "source": [
    "#datos.dtypes\n",
    "datos.head()"
   ]
  },
  {
   "cell_type": "code",
   "execution_count": 20,
   "metadata": {},
   "outputs": [
    {
     "data": {
      "text/plain": [
       "<matplotlib.axes._subplots.AxesSubplot at 0x22ed8eb8>"
      ]
     },
     "execution_count": 20,
     "metadata": {},
     "output_type": "execute_result"
    }
   ],
   "source": [
    "datos.plot(\"PROVINCIA\")\n"
   ]
  },
  {
   "cell_type": "code",
   "execution_count": 7,
   "metadata": {},
   "outputs": [
    {
     "data": {
      "text/plain": [
       "Index([u'IDENTIF_SECT', u'IDENTIF_HOG', u'AREA_5000', u'AREA_2000',\n",
       "       u'CIUDAD_AUTO', u'PROVINCIA', u'ZDP', u'REGION', u'CIUDAD', u'ZONA',\n",
       "       ...\n",
       "       u'AM1703C', u'AM1704A', u'AM1704B', u'AM1704C', u'AM1705A', u'AM1705B',\n",
       "       u'AM1705C', u'FEXP', u'REGIONAL', u'FASE'],\n",
       "      dtype='object', length=166)"
      ]
     },
     "execution_count": 7,
     "metadata": {},
     "output_type": "execute_result"
    }
   ],
   "source": [
    "datos.columns"
   ]
  },
  {
   "cell_type": "code",
   "execution_count": 8,
   "metadata": {},
   "outputs": [
    {
     "data": {
      "text/plain": [
       "array(['Sierra', 'Costa', 'Amazon\\xeda', 'Gal\\xe1pagos'], dtype=object)"
      ]
     },
     "execution_count": 8,
     "metadata": {},
     "output_type": "execute_result"
    }
   ],
   "source": [
    "datos['REGION'].unique()"
   ]
  },
  {
   "cell_type": "code",
   "execution_count": 9,
   "metadata": {},
   "outputs": [],
   "source": [
    "index_reg_datos = datos.set_index(\"REGION\",\"REGIONAL\").sort_index()"
   ]
  },
  {
   "cell_type": "code",
   "execution_count": 10,
   "metadata": {},
   "outputs": [
    {
     "data": {
      "text/html": [
       "<div>\n",
       "<style scoped>\n",
       "    .dataframe tbody tr th:only-of-type {\n",
       "        vertical-align: middle;\n",
       "    }\n",
       "\n",
       "    .dataframe tbody tr th {\n",
       "        vertical-align: top;\n",
       "    }\n",
       "\n",
       "    .dataframe thead th {\n",
       "        text-align: right;\n",
       "    }\n",
       "</style>\n",
       "<table border=\"1\" class=\"dataframe\">\n",
       "  <thead>\n",
       "    <tr style=\"text-align: right;\">\n",
       "      <th></th>\n",
       "      <th>CIUDAD</th>\n",
       "      <th>ZONA</th>\n",
       "      <th>SECTOR</th>\n",
       "      <th>VIVIENDA</th>\n",
       "      <th>HOGAR</th>\n",
       "      <th>VI01</th>\n",
       "      <th>VI08</th>\n",
       "    </tr>\n",
       "  </thead>\n",
       "  <tbody>\n",
       "    <tr>\n",
       "      <th>count</th>\n",
       "      <td>28970.00000</td>\n",
       "      <td>28970.00000</td>\n",
       "      <td>28970.00000</td>\n",
       "      <td>28970.00000</td>\n",
       "      <td>28970.00000</td>\n",
       "      <td>28970.00000</td>\n",
       "      <td>28970.00000</td>\n",
       "    </tr>\n",
       "    <tr>\n",
       "      <th>mean</th>\n",
       "      <td>116426.68498</td>\n",
       "      <td>481.72465</td>\n",
       "      <td>9.87287</td>\n",
       "      <td>6.48895</td>\n",
       "      <td>1.00480</td>\n",
       "      <td>1.01008</td>\n",
       "      <td>3.14574</td>\n",
       "    </tr>\n",
       "    <tr>\n",
       "      <th>std</th>\n",
       "      <td>65813.74005</td>\n",
       "      <td>474.70864</td>\n",
       "      <td>13.92082</td>\n",
       "      <td>3.45138</td>\n",
       "      <td>0.07668</td>\n",
       "      <td>0.11529</td>\n",
       "      <td>1.36289</td>\n",
       "    </tr>\n",
       "    <tr>\n",
       "      <th>min</th>\n",
       "      <td>10150.00000</td>\n",
       "      <td>1.00000</td>\n",
       "      <td>1.00000</td>\n",
       "      <td>1.00000</td>\n",
       "      <td>1.00000</td>\n",
       "      <td>1.00000</td>\n",
       "      <td>1.00000</td>\n",
       "    </tr>\n",
       "    <tr>\n",
       "      <th>25%</th>\n",
       "      <td>70150.00000</td>\n",
       "      <td>7.00000</td>\n",
       "      <td>3.00000</td>\n",
       "      <td>3.00000</td>\n",
       "      <td>1.00000</td>\n",
       "      <td>1.00000</td>\n",
       "      <td>2.00000</td>\n",
       "    </tr>\n",
       "    <tr>\n",
       "      <th>50%</th>\n",
       "      <td>110150.00000</td>\n",
       "      <td>263.00000</td>\n",
       "      <td>6.00000</td>\n",
       "      <td>6.00000</td>\n",
       "      <td>1.00000</td>\n",
       "      <td>1.00000</td>\n",
       "      <td>3.00000</td>\n",
       "    </tr>\n",
       "    <tr>\n",
       "      <th>75%</th>\n",
       "      <td>170160.00000</td>\n",
       "      <td>999.00000</td>\n",
       "      <td>10.00000</td>\n",
       "      <td>9.00000</td>\n",
       "      <td>1.00000</td>\n",
       "      <td>1.00000</td>\n",
       "      <td>4.00000</td>\n",
       "    </tr>\n",
       "    <tr>\n",
       "      <th>max</th>\n",
       "      <td>240352.00000</td>\n",
       "      <td>999.00000</td>\n",
       "      <td>141.00000</td>\n",
       "      <td>12.00000</td>\n",
       "      <td>4.00000</td>\n",
       "      <td>4.00000</td>\n",
       "      <td>16.00000</td>\n",
       "    </tr>\n",
       "  </tbody>\n",
       "</table>\n",
       "</div>"
      ],
      "text/plain": [
       "             CIUDAD         ZONA       SECTOR     VIVIENDA        HOGAR  \\\n",
       "count   28970.00000  28970.00000  28970.00000  28970.00000  28970.00000   \n",
       "mean   116426.68498    481.72465      9.87287      6.48895      1.00480   \n",
       "std     65813.74005    474.70864     13.92082      3.45138      0.07668   \n",
       "min     10150.00000      1.00000      1.00000      1.00000      1.00000   \n",
       "25%     70150.00000      7.00000      3.00000      3.00000      1.00000   \n",
       "50%    110150.00000    263.00000      6.00000      6.00000      1.00000   \n",
       "75%    170160.00000    999.00000     10.00000      9.00000      1.00000   \n",
       "max    240352.00000    999.00000    141.00000     12.00000      4.00000   \n",
       "\n",
       "              VI01         VI08  \n",
       "count  28970.00000  28970.00000  \n",
       "mean       1.01008      3.14574  \n",
       "std        0.11529      1.36289  \n",
       "min        1.00000      1.00000  \n",
       "25%        1.00000      2.00000  \n",
       "50%        1.00000      3.00000  \n",
       "75%        1.00000      4.00000  \n",
       "max        4.00000     16.00000  "
      ]
     },
     "execution_count": 10,
     "metadata": {},
     "output_type": "execute_result"
    }
   ],
   "source": [
    "#VI01== Numero de Viviedas\n",
    "#VI08== Numero de Cuartos\n",
    "index_reg_datos.describe()"
   ]
  },
  {
   "cell_type": "code",
   "execution_count": 11,
   "metadata": {},
   "outputs": [
    {
     "data": {
      "text/plain": [
       "<matplotlib.axes._subplots.AxesSubplot at 0x2237ae10>"
      ]
     },
     "execution_count": 11,
     "metadata": {},
     "output_type": "execute_result"
    }
   ],
   "source": [
    "index_reg_datos.plot()"
   ]
  },
  {
   "cell_type": "code",
   "execution_count": 12,
   "metadata": {},
   "outputs": [
    {
     "data": {
      "text/html": [
       "<div>\n",
       "<style scoped>\n",
       "    .dataframe tbody tr th:only-of-type {\n",
       "        vertical-align: middle;\n",
       "    }\n",
       "\n",
       "    .dataframe tbody tr th {\n",
       "        vertical-align: top;\n",
       "    }\n",
       "\n",
       "    .dataframe thead th {\n",
       "        text-align: right;\n",
       "    }\n",
       "</style>\n",
       "<table border=\"1\" class=\"dataframe\">\n",
       "  <thead>\n",
       "    <tr style=\"text-align: right;\">\n",
       "      <th></th>\n",
       "      <th>ZDP</th>\n",
       "      <th>VI03</th>\n",
       "      <th>VI04</th>\n",
       "      <th>VI05</th>\n",
       "      <th>VI06A</th>\n",
       "      <th>VI36</th>\n",
       "      <th>VI39</th>\n",
       "      <th>VI40</th>\n",
       "    </tr>\n",
       "    <tr>\n",
       "      <th>REGION</th>\n",
       "      <th></th>\n",
       "      <th></th>\n",
       "      <th></th>\n",
       "      <th></th>\n",
       "      <th></th>\n",
       "      <th></th>\n",
       "      <th></th>\n",
       "      <th></th>\n",
       "    </tr>\n",
       "  </thead>\n",
       "  <tbody>\n",
       "    <tr>\n",
       "      <th>Sierra</th>\n",
       "      <td>Zona 3</td>\n",
       "      <td>Asbesto (Eternit)</td>\n",
       "      <td>Bloque /ladrillo</td>\n",
       "      <td>Tabla / tabl�n no tratado</td>\n",
       "      <td>Regular</td>\n",
       "      <td>Propia y totalmente pagada</td>\n",
       "      <td>20</td>\n",
       "      <td></td>\n",
       "    </tr>\n",
       "    <tr>\n",
       "      <th>Sierra</th>\n",
       "      <td>Zona 3</td>\n",
       "      <td>Palma / paja /hoja</td>\n",
       "      <td>Bloque /ladrillo</td>\n",
       "      <td>Tierra</td>\n",
       "      <td>Malo</td>\n",
       "      <td>Propia y totalmente pagada</td>\n",
       "      <td>30</td>\n",
       "      <td></td>\n",
       "    </tr>\n",
       "    <tr>\n",
       "      <th>Sierra</th>\n",
       "      <td>Zona 3</td>\n",
       "      <td>Teja</td>\n",
       "      <td>Bloque /ladrillo</td>\n",
       "      <td>Tierra</td>\n",
       "      <td>Regular</td>\n",
       "      <td>Propia y totalmente pagada</td>\n",
       "      <td>100</td>\n",
       "      <td></td>\n",
       "    </tr>\n",
       "    <tr>\n",
       "      <th>Sierra</th>\n",
       "      <td>Zona 3</td>\n",
       "      <td>Zinc</td>\n",
       "      <td>Bloque /ladrillo</td>\n",
       "      <td>Tierra</td>\n",
       "      <td>Regular</td>\n",
       "      <td>Propia y totalmente pagada</td>\n",
       "      <td>50</td>\n",
       "      <td></td>\n",
       "    </tr>\n",
       "    <tr>\n",
       "      <th>Sierra</th>\n",
       "      <td>Zona 3</td>\n",
       "      <td>Palma / paja /hoja</td>\n",
       "      <td>Bloque /ladrillo</td>\n",
       "      <td>Tierra</td>\n",
       "      <td>Malo</td>\n",
       "      <td>Propia y totalmente pagada</td>\n",
       "      <td>50</td>\n",
       "      <td></td>\n",
       "    </tr>\n",
       "  </tbody>\n",
       "</table>\n",
       "</div>"
      ],
      "text/plain": [
       "           ZDP                VI03              VI04  \\\n",
       "REGION                                                 \n",
       "Sierra  Zona 3   Asbesto (Eternit)  Bloque /ladrillo   \n",
       "Sierra  Zona 3  Palma / paja /hoja  Bloque /ladrillo   \n",
       "Sierra  Zona 3                Teja  Bloque /ladrillo   \n",
       "Sierra  Zona 3                Zinc  Bloque /ladrillo   \n",
       "Sierra  Zona 3  Palma / paja /hoja  Bloque /ladrillo   \n",
       "\n",
       "                             VI05    VI06A                        VI36 VI39  \\\n",
       "REGION                                                                        \n",
       "Sierra  Tabla / tabl�n no tratado  Regular  Propia y totalmente pagada   20   \n",
       "Sierra                     Tierra     Malo  Propia y totalmente pagada   30   \n",
       "Sierra                     Tierra  Regular  Propia y totalmente pagada  100   \n",
       "Sierra                     Tierra  Regular  Propia y totalmente pagada   50   \n",
       "Sierra                     Tierra     Malo  Propia y totalmente pagada   50   \n",
       "\n",
       "       VI40  \n",
       "REGION       \n",
       "Sierra       \n",
       "Sierra       \n",
       "Sierra       \n",
       "Sierra       \n",
       "Sierra       "
      ]
     },
     "execution_count": 12,
     "metadata": {},
     "output_type": "execute_result"
    }
   ],
   "source": [
    "#\n",
    "#\n",
    "index_reg_datos.loc[\n",
    "                    [\"Sierra\",\"Costa\",\"Amazon\\xeda\",'Gal\\xe1pagos'],\n",
    "                    ['ZDP','VI03','VI04','VI05','VI06A','VI36','VI39','VI40']\n",
    "                  ].head()"
   ]
  },
  {
   "cell_type": "code",
   "execution_count": 13,
   "metadata": {},
   "outputs": [
    {
     "data": {
      "text/plain": [
       "array(['Azuay', 'Bolivar', 'Ca\\xf1ar', 'Carchi', 'Cotopaxi', 'Chimborazo',\n",
       "       'El Oro', 'Esmeraldas', 'Guayas', 'Imbabura', 'Loja', 'Los Rios',\n",
       "       'Manabi', 'Morona Santiago', 'Napo', 'Pastaza', 'Pichincha',\n",
       "       'Tungurahua', 'Zamora Chinchipe', 'Gal\\xe1pagos', 'Sucumbios',\n",
       "       'Orellana', 'Santo Domingo de los Tsachilas', 'Santa Elena'], dtype=object)"
      ]
     },
     "execution_count": 13,
     "metadata": {},
     "output_type": "execute_result"
    }
   ],
   "source": [
    "prov = datos['PROVINCIA'].unique()\n",
    "prov"
   ]
  },
  {
   "cell_type": "code",
   "execution_count": 14,
   "metadata": {
    "scrolled": true
   },
   "outputs": [],
   "source": [
    "index_pro_datos = datos.set_index(\"PROVINCIA\",\"REGIONAL\").sort_index()"
   ]
  },
  {
   "cell_type": "code",
   "execution_count": 15,
   "metadata": {},
   "outputs": [
    {
     "data": {
      "text/plain": [
       "count      28970\n",
       "unique        24\n",
       "top       Guayas\n",
       "freq        3082\n",
       "Name: PROVINCIA, dtype: object"
      ]
     },
     "execution_count": 15,
     "metadata": {},
     "output_type": "execute_result"
    }
   ],
   "source": [
    "datos['PROVINCIA'].describe()"
   ]
  },
  {
   "cell_type": "code",
   "execution_count": 16,
   "metadata": {},
   "outputs": [
    {
     "data": {
      "text/html": [
       "<div>\n",
       "<style scoped>\n",
       "    .dataframe tbody tr th:only-of-type {\n",
       "        vertical-align: middle;\n",
       "    }\n",
       "\n",
       "    .dataframe tbody tr th {\n",
       "        vertical-align: top;\n",
       "    }\n",
       "\n",
       "    .dataframe thead th {\n",
       "        text-align: right;\n",
       "    }\n",
       "</style>\n",
       "<table border=\"1\" class=\"dataframe\">\n",
       "  <thead>\n",
       "    <tr style=\"text-align: right;\">\n",
       "      <th></th>\n",
       "      <th>ZDP</th>\n",
       "      <th>VI03</th>\n",
       "      <th>VI04</th>\n",
       "      <th>VI05</th>\n",
       "      <th>VI06A</th>\n",
       "      <th>VI37</th>\n",
       "    </tr>\n",
       "    <tr>\n",
       "      <th>PROVINCIA</th>\n",
       "      <th></th>\n",
       "      <th></th>\n",
       "      <th></th>\n",
       "      <th></th>\n",
       "      <th></th>\n",
       "      <th></th>\n",
       "    </tr>\n",
       "  </thead>\n",
       "  <tbody>\n",
       "    <tr>\n",
       "      <th>El Oro</th>\n",
       "      <td>Zona 7</td>\n",
       "      <td>Zinc</td>\n",
       "      <td>Ca�a sin revestir</td>\n",
       "      <td>Tabla / tabl�n no tratado</td>\n",
       "      <td>Bueno</td>\n",
       "      <td></td>\n",
       "    </tr>\n",
       "    <tr>\n",
       "      <th>El Oro</th>\n",
       "      <td>Zona 7</td>\n",
       "      <td>Asbesto (Eternit)</td>\n",
       "      <td>Asbesto / cemento</td>\n",
       "      <td>Cemento / ladrillo</td>\n",
       "      <td>Regular</td>\n",
       "      <td></td>\n",
       "    </tr>\n",
       "    <tr>\n",
       "      <th>El Oro</th>\n",
       "      <td>Zona 7</td>\n",
       "      <td>Zinc</td>\n",
       "      <td>Bloque /ladrillo</td>\n",
       "      <td>Cer�mica / baldosa / vinyl</td>\n",
       "      <td>Regular</td>\n",
       "      <td></td>\n",
       "    </tr>\n",
       "    <tr>\n",
       "      <th>El Oro</th>\n",
       "      <td>Zona 7</td>\n",
       "      <td>Hormig�n / losa / cemento</td>\n",
       "      <td>Bloque /ladrillo</td>\n",
       "      <td>Cer�mica / baldosa / vinyl</td>\n",
       "      <td>Bueno</td>\n",
       "      <td></td>\n",
       "    </tr>\n",
       "    <tr>\n",
       "      <th>El Oro</th>\n",
       "      <td>Zona 7</td>\n",
       "      <td>Zinc</td>\n",
       "      <td>Ca�a sin revestir</td>\n",
       "      <td>Tierra</td>\n",
       "      <td>Malo</td>\n",
       "      <td></td>\n",
       "    </tr>\n",
       "  </tbody>\n",
       "</table>\n",
       "</div>"
      ],
      "text/plain": [
       "              ZDP                       VI03               VI04  \\\n",
       "PROVINCIA                                                         \n",
       "El Oro     Zona 7                       Zinc  Ca�a sin revestir   \n",
       "El Oro     Zona 7          Asbesto (Eternit)  Asbesto / cemento   \n",
       "El Oro     Zona 7                       Zinc   Bloque /ladrillo   \n",
       "El Oro     Zona 7  Hormig�n / losa / cemento   Bloque /ladrillo   \n",
       "El Oro     Zona 7                       Zinc  Ca�a sin revestir   \n",
       "\n",
       "                                 VI05    VI06A VI37  \n",
       "PROVINCIA                                            \n",
       "El Oro      Tabla / tabl�n no tratado    Bueno       \n",
       "El Oro             Cemento / ladrillo  Regular       \n",
       "El Oro     Cer�mica / baldosa / vinyl  Regular       \n",
       "El Oro     Cer�mica / baldosa / vinyl    Bueno       \n",
       "El Oro                         Tierra     Malo       "
      ]
     },
     "execution_count": 16,
     "metadata": {},
     "output_type": "execute_result"
    }
   ],
   "source": [
    "index_pro_datos.loc[\n",
    "                    [\"El Oro\",\"Loja\",\"Zamora Chinchipe\"],\n",
    "                    ['ZDP','VI03','VI04','VI05','VI06A','VI37']\n",
    "                  ].head(5)"
   ]
  },
  {
   "cell_type": "code",
   "execution_count": 17,
   "metadata": {
    "scrolled": true
   },
   "outputs": [
    {
     "data": {
      "text/plain": [
       "<matplotlib.axes._subplots.AxesSubplot at 0x21bd6b00>"
      ]
     },
     "execution_count": 17,
     "metadata": {},
     "output_type": "execute_result"
    }
   ],
   "source": [
    "\n",
    "index_pro_datos.plot()"
   ]
  },
  {
   "cell_type": "code",
   "execution_count": 18,
   "metadata": {},
   "outputs": [
    {
     "ename": "NameError",
     "evalue": "name 'agrupar_zona' is not defined",
     "output_type": "error",
     "traceback": [
      "\u001b[1;31m---------------------------------------------------------------------------\u001b[0m",
      "\u001b[1;31mNameError\u001b[0m                                 Traceback (most recent call last)",
      "\u001b[1;32m<ipython-input-18-a3fba82dba9d>\u001b[0m in \u001b[0;36m<module>\u001b[1;34m()\u001b[0m\n\u001b[0;32m      1\u001b[0m \u001b[0mdatos_z7\u001b[0m \u001b[1;33m=\u001b[0m \u001b[0mdatos\u001b[0m\u001b[1;33m.\u001b[0m\u001b[0mset_index\u001b[0m\u001b[1;33m(\u001b[0m\u001b[1;33m[\u001b[0m\u001b[1;34m\"ZDP\"\u001b[0m\u001b[1;33m]\u001b[0m\u001b[1;33m,\u001b[0m\u001b[1;33m[\u001b[0m\u001b[1;34m\"PROVINCIA\"\u001b[0m\u001b[1;33m,\u001b[0m\u001b[1;34m\"REGIONAL\"\u001b[0m\u001b[1;33m]\u001b[0m\u001b[1;33m,\u001b[0m\u001b[1;33m[\u001b[0m\u001b[1;34m\"VI03\"\u001b[0m\u001b[1;33m,\u001b[0m\u001b[1;34m\"VI04\"\u001b[0m\u001b[1;33m,\u001b[0m\u001b[1;34m\"VI05\"\u001b[0m\u001b[1;33m]\u001b[0m\u001b[1;33m)\u001b[0m\u001b[1;33m.\u001b[0m\u001b[0msort_index\u001b[0m\u001b[1;33m(\u001b[0m\u001b[1;33m)\u001b[0m\u001b[1;33m\u001b[0m\u001b[0m\n\u001b[0;32m      2\u001b[0m \u001b[1;31m#agrupar_zona = datos_z7.groupby(\"PROVINCIA\").sum()\u001b[0m\u001b[1;33m\u001b[0m\u001b[1;33m\u001b[0m\u001b[0m\n\u001b[1;32m----> 3\u001b[1;33m \u001b[0magrupar_zona\u001b[0m\u001b[1;33m.\u001b[0m\u001b[0mcolumns\u001b[0m\u001b[1;33m\u001b[0m\u001b[0m\n\u001b[0m",
      "\u001b[1;31mNameError\u001b[0m: name 'agrupar_zona' is not defined"
     ]
    }
   ],
   "source": [
    "datos_z7 = datos.set_index([\"ZDP\"],[\"PROVINCIA\",\"REGIONAL\"],[\"VI03\",\"VI04\",\"VI05\"]).sort_index()\n",
    "#agrupar_zona = datos_z7.groupby(\"PROVINCIA\").sum()\n",
    "agrupar_zona.columns"
   ]
  },
  {
   "cell_type": "code",
   "execution_count": null,
   "metadata": {},
   "outputs": [],
   "source": [
    "agrupar_zona.head()\n"
   ]
  },
  {
   "cell_type": "code",
   "execution_count": null,
   "metadata": {},
   "outputs": [],
   "source": [
    "datos_z7.head()"
   ]
  },
  {
   "cell_type": "code",
   "execution_count": null,
   "metadata": {},
   "outputs": [],
   "source": [
    "datos_z7.plot()"
   ]
  },
  {
   "cell_type": "code",
   "execution_count": null,
   "metadata": {},
   "outputs": [],
   "source": []
  }
 ],
 "metadata": {
  "kernelspec": {
   "display_name": "Python 2",
   "language": "python",
   "name": "python2"
  },
  "language_info": {
   "codemirror_mode": {
    "name": "ipython",
    "version": 2
   },
   "file_extension": ".py",
   "mimetype": "text/x-python",
   "name": "python",
   "nbconvert_exporter": "python",
   "pygments_lexer": "ipython2",
   "version": "2.7.11"
  }
 },
 "nbformat": 4,
 "nbformat_minor": 2
}
